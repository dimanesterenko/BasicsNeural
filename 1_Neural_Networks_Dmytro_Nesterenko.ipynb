{
  "nbformat": 4,
  "nbformat_minor": 0,
  "metadata": {
    "colab": {
      "provenance": [],
      "authorship_tag": "ABX9TyPWXklw9g1s8/gFEXDgM2J4",
      "include_colab_link": true
    },
    "kernelspec": {
      "name": "python3",
      "display_name": "Python 3"
    },
    "language_info": {
      "name": "python"
    }
  },
  "cells": [
    {
      "cell_type": "markdown",
      "metadata": {
        "id": "view-in-github",
        "colab_type": "text"
      },
      "source": [
        "<a href=\"https://colab.research.google.com/github/dimanesterenko/BasicsNeural/blob/main/1_Neural_Networks_Dmytro_Nesterenko.ipynb\" target=\"_parent\"><img src=\"https://colab.research.google.com/assets/colab-badge.svg\" alt=\"Open In Colab\"/></a>"
      ]
    },
    {
      "cell_type": "markdown",
      "source": [
        "# Лабораторна робота № 1\n",
        "\n",
        "# Виконав студент групи КН-31\n",
        "\n",
        "# Нестеренко Дмитро"
      ],
      "metadata": {
        "id": "wzXRwY2vsoZ8"
      }
    },
    {
      "cell_type": "markdown",
      "source": [
        "1. NumPy (створити набір даних (розмір за власним рішенням), провести CRUD операції над даними (скаляр, вектор, матриця)). Використати arange, random.\n"
      ],
      "metadata": {
        "id": "hPjV9n7Esosl"
      }
    },
    {
      "cell_type": "code",
      "source": [
        "import numpy as np\n",
        "#numpy\n",
        "# Створення матриці розміром 3x3 з випадковими значеннями\n",
        "data = np.random.random((3, 3))\n",
        "print(\"Початкові дані:\")\n",
        "print(data)\n",
        "\n",
        "# Оновлення значення елементу матриці\n",
        "row_index, col_index = 1, 2\n",
        "new_value = 10.0\n",
        "data[row_index, col_index] = new_value\n",
        "print(f\"\\nОновлені дані (елемент [{row_index}, {col_index}]):\")\n",
        "print(data)\n",
        "\n",
        "# Додавання скалярного значення до всіх елементів матриці\n",
        "scalar_value = 5.0\n",
        "data += scalar_value\n",
        "print(f\"\\nДодавання скалярного значення {scalar_value} до всіх елементів:\")\n",
        "print(data)\n",
        "\n",
        "# Видалення рядка матриці\n",
        "row_to_delete = 2\n",
        "data = np.delete(data, row_to_delete, axis=0)\n",
        "print(f\"\\nВидалення рядка {row_to_delete}:\")\n",
        "print(data)\n",
        "\n",
        "# Створення нового вектору та його додавання до існуючої матриці\n",
        "new_vector = np.arange(3)\n",
        "data = np.vstack([data, new_vector])\n",
        "print(\"\\nДодавання нового вектору:\")\n",
        "print(data)\n",
        "\n"
      ],
      "metadata": {
        "colab": {
          "base_uri": "https://localhost:8080/"
        },
        "id": "LFTRF0CytHyi",
        "outputId": "7ffcca50-98c0-4d01-fcdb-d0aa292edd73"
      },
      "execution_count": null,
      "outputs": [
        {
          "output_type": "stream",
          "name": "stdout",
          "text": [
            "Початкові дані:\n",
            "[[0.61861023 0.1111845  0.12820211]\n",
            " [0.61648227 0.05804521 0.0926023 ]\n",
            " [0.72613169 0.78271287 0.33012048]]\n",
            "\n",
            "Оновлені дані (елемент [1, 2]):\n",
            "[[ 0.61861023  0.1111845   0.12820211]\n",
            " [ 0.61648227  0.05804521 10.        ]\n",
            " [ 0.72613169  0.78271287  0.33012048]]\n",
            "\n",
            "Додавання скалярного значення 5.0 до всіх елементів:\n",
            "[[ 5.61861023  5.1111845   5.12820211]\n",
            " [ 5.61648227  5.05804521 15.        ]\n",
            " [ 5.72613169  5.78271287  5.33012048]]\n",
            "\n",
            "Видалення рядка 2:\n",
            "[[ 5.61861023  5.1111845   5.12820211]\n",
            " [ 5.61648227  5.05804521 15.        ]]\n",
            "\n",
            "Додавання нового вектору:\n",
            "[[ 5.61861023  5.1111845   5.12820211]\n",
            " [ 5.61648227  5.05804521 15.        ]\n",
            " [ 0.          1.          2.        ]]\n"
          ]
        }
      ]
    },
    {
      "cell_type": "markdown",
      "source": [
        "2. Pandas (створити dataframe різними способами, провести маніпуляції з даними (head, describe, iloc, loc ...))\n"
      ],
      "metadata": {
        "id": "dosHgMHgtZEt"
      }
    },
    {
      "cell_type": "code",
      "source": [
        "import pandas as pd\n",
        "# Створення DataFrame зі списком списків\n",
        "data = [[1, 'John', 25],\n",
        "        [2, 'Anna', 35],\n",
        "        [3, 'Peter', 30]]\n",
        "\n",
        "columns = ['ID', 'Name', 'Age']\n",
        "df1 = pd.DataFrame(data, columns=columns)\n",
        "\n",
        "# Створення DataFrame з словником списків\n",
        "data = {'ID': [1, 2, 3],\n",
        "        'Name': ['John', 'Anna', 'Peter'],\n",
        "        'Age': [25, 35, 30]}\n",
        "df2 = pd.DataFrame(data)\n",
        "\n",
        "# Виведення перших декількох рядків даних (head)\n",
        "print(\"Перші 2 рядки df1:\")\n",
        "print(df1.head(2))\n",
        "print(\"\\nПерші 2 рядки df2:\")\n",
        "print(df2.head(2))\n",
        "\n",
        "# Опис статистики даних (describe)\n",
        "print(\"\\nОпис df1:\")\n",
        "print(df1.describe())\n",
        "print(\"\\nОпис df2:\")\n",
        "print(df2.describe())\n",
        "\n",
        "# Вибірка даних за індексом рядка (iloc)\n",
        "print(\"\\nРядок з індексом 1 у df1:\")\n",
        "print(df1.iloc[1])\n",
        "\n",
        "# Вибірка даних за міткою рядка (loc)\n",
        "print(\"\\nРядок з міткою індексу 1 у df2:\")\n",
        "print(df2.loc[1])\n",
        "\n",
        "# Додавання нового рядка до DataFrame\n",
        "new_row = pd.Series([4, 'Maria', 28], index=['ID', 'Name', 'Age'])\n",
        "df1 = df1.append(new_row, ignore_index=True)\n",
        "print(\"\\nDataFrame df1 після додавання нового рядка:\")\n",
        "print(df1)\n"
      ],
      "metadata": {
        "colab": {
          "base_uri": "https://localhost:8080/"
        },
        "id": "i6SHn_mAtbEB",
        "outputId": "137d0a8f-2125-4f63-e065-7e8402cb9477"
      },
      "execution_count": null,
      "outputs": [
        {
          "output_type": "stream",
          "name": "stdout",
          "text": [
            "Перші 2 рядки df1:\n",
            "   ID  Name  Age\n",
            "0   1  John   25\n",
            "1   2  Anna   35\n",
            "\n",
            "Перші 2 рядки df2:\n",
            "   ID  Name  Age\n",
            "0   1  John   25\n",
            "1   2  Anna   35\n",
            "\n",
            "Опис df1:\n",
            "        ID   Age\n",
            "count  3.0   3.0\n",
            "mean   2.0  30.0\n",
            "std    1.0   5.0\n",
            "min    1.0  25.0\n",
            "25%    1.5  27.5\n",
            "50%    2.0  30.0\n",
            "75%    2.5  32.5\n",
            "max    3.0  35.0\n",
            "\n",
            "Опис df2:\n",
            "        ID   Age\n",
            "count  3.0   3.0\n",
            "mean   2.0  30.0\n",
            "std    1.0   5.0\n",
            "min    1.0  25.0\n",
            "25%    1.5  27.5\n",
            "50%    2.0  30.0\n",
            "75%    2.5  32.5\n",
            "max    3.0  35.0\n",
            "\n",
            "Рядок з індексом 1 у df1:\n",
            "ID         2\n",
            "Name    Anna\n",
            "Age       35\n",
            "Name: 1, dtype: object\n",
            "\n",
            "Рядок з міткою індексу 1 у df2:\n",
            "ID         2\n",
            "Name    Anna\n",
            "Age       35\n",
            "Name: 1, dtype: object\n",
            "\n",
            "DataFrame df1 після додавання нового рядка:\n",
            "   ID   Name  Age\n",
            "0   1   John   25\n",
            "1   2   Anna   35\n",
            "2   3  Peter   30\n",
            "3   4  Maria   28\n"
          ]
        },
        {
          "output_type": "stream",
          "name": "stderr",
          "text": [
            "<ipython-input-5-13186f32e4f5>:38: FutureWarning: The frame.append method is deprecated and will be removed from pandas in a future version. Use pandas.concat instead.\n",
            "  df1 = df1.append(new_row, ignore_index=True)\n"
          ]
        }
      ]
    },
    {
      "cell_type": "markdown",
      "source": [
        "3. Matplotlib (створити набір даних лінійної функції з урахуванням помилок вимірювань, побудувати графік функції та згенерованих даних, обчислити похибку з використанням метрик MAE, MSE). Записати отримані результати у csv файл (формат: X,Y, Y_hat, mAE, mSE)\n"
      ],
      "metadata": {
        "id": "kcExBL46tbUL"
      }
    },
    {
      "cell_type": "code",
      "source": [
        "import numpy as np\n",
        "import matplotlib.pyplot as plt\n",
        "import csv\n",
        "\n",
        "# Функція для генерації даних\n",
        "def generate_data():\n",
        "    np.random.seed(0)\n",
        "    X = np.linspace(0, 10, 100)  # Вхідні дані\n",
        "    Y = 2 * X + 1 + np.random.normal(0, 2, 100)  # Лінійна функція з випадковими помилками\n",
        "    return X, Y\n",
        "\n",
        "# Функція для обчислення метрик MAE та MSE\n",
        "def calculate_metrics(Y, Y_hat):\n",
        "    mae = np.mean(np.abs(Y - Y_hat))  # Середня абсолютна похибка\n",
        "    mse = np.mean((Y - Y_hat) ** 2)    # Середнє квадратичне відхилення\n",
        "    return mae, mse\n",
        "\n",
        "# Генеруємо дані\n",
        "X, Y = generate_data()\n",
        "\n",
        "# Побудова графіку\n",
        "plt.figure(figsize=(8, 6))\n",
        "plt.scatter(X, Y, label='Дані з помилками')\n",
        "plt.plot(X, 2 * X + 1, color='red', label='Функція y = 2x + 1')\n",
        "plt.xlabel('X')\n",
        "plt.ylabel('Y')\n",
        "plt.title('Лінійна функція та дані з помилками')\n",
        "plt.legend()\n",
        "plt.grid(True)\n",
        "plt.show()\n",
        "\n",
        "# Обчислення підбіжної функції (в даному випадку просто лінійна функція)\n",
        "Y_hat = 2 * X + 1\n",
        "\n",
        "# Обчислення метрик\n",
        "mae, mse = calculate_metrics(Y, Y_hat)\n",
        "\n",
        "# Запис результатів у CSV-файл\n",
        "with open('results.csv', 'w', newline='') as csvfile:\n",
        "    fieldnames = ['X', 'Y', 'Y_hat', 'MAE', 'MSE']\n",
        "    writer = csv.DictWriter(csvfile, fieldnames=fieldnames)\n",
        "\n",
        "    writer.writeheader()\n",
        "    for x, y, y_hat in zip(X, Y, Y_hat):\n",
        "        writer.writerow({'X': x, 'Y': y, 'Y_hat': y_hat, 'MAE': mae, 'MSE': mse})\n",
        "\n",
        "print(\"Результати були записані у файл 'results.csv'\")"
      ],
      "metadata": {
        "colab": {
          "base_uri": "https://localhost:8080/",
          "height": 581
        },
        "id": "gnsmDF0ltgN_",
        "outputId": "76ee7c96-d604-4565-ba84-48dea33681f4"
      },
      "execution_count": null,
      "outputs": [
        {
          "output_type": "display_data",
          "data": {
            "text/plain": [
              "<Figure size 800x600 with 1 Axes>"
            ],
            "image/png": "[encoded data removed]"
          },
          "metadata": {}
        },
        {
          "output_type": "stream",
          "name": "stdout",
          "text": [
            "Результати були записані у файл 'results.csv'\n"
          ]
        }
      ]
    },
    {
      "cell_type": "markdown",
      "source": [
        "4. Sklearn (провести вирішення задачі регресії та класифікації)\n"
      ],
      "metadata": {
        "id": "yeKSNzbntgdd"
      }
    },
    {
      "cell_type": "code",
      "source": [
        "!pip install -U scikit-learn"
      ],
      "metadata": {
        "colab": {
          "base_uri": "https://localhost:8080/",
          "height": 377
        },
        "id": "rympPH_v19Lx",
        "outputId": "9cec3ef0-8180-460d-815e-4d8f061542da"
      },
      "execution_count": null,
      "outputs": [
        {
          "output_type": "stream",
          "name": "stdout",
          "text": [
            "Requirement already satisfied: scikit-learn in /usr/local/lib/python3.10/dist-packages (1.2.2)\n",
            "Collecting scikit-learn\n",
            "  Downloading scikit_learn-1.4.1.post1-cp310-cp310-manylinux_2_17_x86_64.manylinux2014_x86_64.whl (12.1 MB)\n",
            "\u001b[2K     \u001b[90m━━━━━━━━━━━━━━━━━━━━━━━━━━━━━━━━━━━━━━━━\u001b[0m \u001b[32m12.1/12.1 MB\u001b[0m \u001b[31m44.9 MB/s\u001b[0m eta \u001b[36m0:00:00\u001b[0m\n",
            "\u001b[?25hRequirement already satisfied: numpy<2.0,>=1.19.5 in /usr/local/lib/python3.10/dist-packages (from scikit-learn) (1.25.2)\n",
            "Requirement already satisfied: scipy>=1.6.0 in /usr/local/lib/python3.10/dist-packages (from scikit-learn) (1.11.4)\n",
            "Requirement already satisfied: joblib>=1.2.0 in /usr/local/lib/python3.10/dist-packages (from scikit-learn) (1.3.2)\n",
            "Requirement already satisfied: threadpoolctl>=2.0.0 in /usr/local/lib/python3.10/dist-packages (from scikit-learn) (3.3.0)\n",
            "Installing collected packages: scikit-learn\n",
            "  Attempting uninstall: scikit-learn\n",
            "    Found existing installation: scikit-learn 1.2.2\n",
            "    Uninstalling scikit-learn-1.2.2:\n",
            "      Successfully uninstalled scikit-learn-1.2.2\n",
            "Successfully installed scikit-learn-1.4.1.post1\n"
          ]
        },
        {
          "output_type": "display_data",
          "data": {
            "application/vnd.colab-display-data+json": {
              "pip_warning": {
                "packages": [
                  "sklearn"
                ]
              },
              "id": "23cc10cd04d04d8aa0be0d92f3a2cd73"
            }
          },
          "metadata": {}
        }
      ]
    },
    {
      "cell_type": "code",
      "source": [
        "from sklearn.datasets import fetch_california_housing\n",
        "from sklearn.model_selection import train_test_split\n",
        "from sklearn.linear_model import LinearRegression\n",
        "from sklearn.metrics import mean_squared_error\n",
        "\n",
        "# Завантажуємо дані\n",
        "california_housing = fetch_california_housing()\n",
        "X, y = california_housing.data, california_housing.target\n",
        "\n",
        "# Розділяємо дані на навчальний та тестовий набори\n",
        "X_train, X_test, y_train, y_test = train_test_split(X, y, test_size=0.2, random_state=42)\n",
        "\n",
        "# Ініціалізуємо та навчаємо модель лінійної регресії\n",
        "model = LinearRegression()\n",
        "model.fit(X_train, y_train)\n",
        "\n",
        "# Робимо передбачення на тестових даних\n",
        "y_pred = model.predict(X_test)\n",
        "\n",
        "# Оцінюємо точність моделі\n",
        "mse = mean_squared_error(y_test, y_pred)\n",
        "print(\"Mean Squared Error:\", mse)"
      ],
      "metadata": {
        "colab": {
          "base_uri": "https://localhost:8080/"
        },
        "id": "nbAOMja6tjFW",
        "outputId": "8f506207-857b-4964-f21c-614393bb9462"
      },
      "execution_count": 3,
      "outputs": [
        {
          "output_type": "stream",
          "name": "stdout",
          "text": [
            "Mean Squared Error: 0.5558915986952422\n"
          ]
        }
      ]
    },
    {
      "cell_type": "code",
      "source": [
        "from sklearn.datasets import load_iris\n",
        "from sklearn.model_selection import train_test_split\n",
        "from sklearn.ensemble import RandomForestClassifier\n",
        "from sklearn.metrics import accuracy_score\n",
        "\n",
        "# Завантажуємо дані\n",
        "iris = load_iris()\n",
        "X, y = iris.data, iris.target\n",
        "\n",
        "# Розділяємо дані на навчальний та тестовий набори\n",
        "X_train, X_test, y_train, y_test = train_test_split(X, y, test_size=0.2, random_state=42)\n",
        "\n",
        "# Ініціалізуємо та навчаємо модель класифікації за допомогою випадкового лісу\n",
        "model = RandomForestClassifier(n_estimators=100, random_state=42)\n",
        "model.fit(X_train, y_train)\n",
        "\n",
        "# Робимо передбачення на тестових даних\n",
        "y_pred = model.predict(X_test)\n",
        "\n",
        "# Оцінюємо точність моделі\n",
        "accuracy = accuracy_score(y_test, y_pred)\n",
        "print(\"Accuracy:\", accuracy)\n"
      ],
      "metadata": {
        "id": "sHuBxzXt1n0g",
        "colab": {
          "base_uri": "https://localhost:8080/"
        },
        "outputId": "bed384a1-c42b-439f-c7d3-af345e17585b"
      },
      "execution_count": 2,
      "outputs": [
        {
          "output_type": "stream",
          "name": "stdout",
          "text": [
            "Accuracy: 1.0\n"
          ]
        }
      ]
    },
    {
      "cell_type": "markdown",
      "source": [
        "5. Tensorflow (створити набір даних (розмір за власним рішенням), провести CRUD операції над даними, reshape, інтеграцію з np.array, pd.DataFrame)\n"
      ],
      "metadata": {
        "id": "07InUvV5tjWA"
      }
    },
    {
      "cell_type": "code",
      "source": [
        "import tensorflow as tf\n",
        "import numpy as np\n",
        "import pandas as pd\n",
        "\n",
        "# Створення набору даних у TensorFlow\n",
        "data = tf.Variable([\n",
        "    [1, 2],\n",
        "    [3, 4],\n",
        "    [5, 6],\n",
        "    [7, 8]\n",
        "])\n",
        "\n",
        "# Читання даних\n",
        "print(\"Дані:\")\n",
        "print(data)\n",
        "\n",
        "# Оновлення даних\n",
        "data[0, 0].assign(10)\n",
        "\n",
        "# Видалення даних\n",
        "data = tf.concat([data[:2], data[3:]], axis=0)\n",
        "\n",
        "# Читання оновленених даних\n",
        "print(\"Оновлені дані:\")\n",
        "print(data)\n",
        "\n",
        "# Reshape даних\n",
        "data_reshaped = tf.reshape(data, [3, 2])\n",
        "print(\"Дані після reshape:\")\n",
        "print(data_reshaped)\n",
        "\n",
        "# Інтеграція з NumPy array\n",
        "numpy_array = np.array(data)\n",
        "print(\"NumPy array:\")\n",
        "print(numpy_array)\n",
        "\n",
        "# Інтеграція з Pandas DataFrame\n",
        "dataframe = pd.DataFrame(data.numpy(), columns=['A', 'B'])\n",
        "print(\"Pandas DataFrame:\")\n",
        "print(dataframe)\n"
      ],
      "metadata": {
        "id": "jLqsHSCttnMh",
        "colab": {
          "base_uri": "https://localhost:8080/"
        },
        "outputId": "8ed866d6-cce0-4d3c-c751-94f1bcd2ff09"
      },
      "execution_count": 4,
      "outputs": [
        {
          "output_type": "stream",
          "name": "stdout",
          "text": [
            "Дані:\n",
            "<tf.Variable 'Variable:0' shape=(4, 2) dtype=int32, numpy=\n",
            "array([[1, 2],\n",
            "       [3, 4],\n",
            "       [5, 6],\n",
            "       [7, 8]], dtype=int32)>\n",
            "Оновлені дані:\n",
            "tf.Tensor(\n",
            "[[10  2]\n",
            " [ 3  4]\n",
            " [ 7  8]], shape=(3, 2), dtype=int32)\n",
            "Дані після reshape:\n",
            "tf.Tensor(\n",
            "[[10  2]\n",
            " [ 3  4]\n",
            " [ 7  8]], shape=(3, 2), dtype=int32)\n",
            "NumPy array:\n",
            "[[10  2]\n",
            " [ 3  4]\n",
            " [ 7  8]]\n",
            "Pandas DataFrame:\n",
            "    A  B\n",
            "0  10  2\n",
            "1   3  4\n",
            "2   7  8\n"
          ]
        }
      ]
    },
    {
      "cell_type": "markdown",
      "source": [
        "#Висновок\n"
      ],
      "metadata": {
        "id": "BSbjYfry4X9N"
      }
    }
  ]
}